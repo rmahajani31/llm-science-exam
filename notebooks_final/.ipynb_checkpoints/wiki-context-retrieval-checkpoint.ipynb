{
 "cells": [
  {
   "cell_type": "code",
   "execution_count": 1,
   "metadata": {
    "_cell_guid": "b1076dfc-b9ad-4769-8c92-a6c4dae69d19",
    "_uuid": "8f2839f25d086af736a60e9eeb907d3b93b6e0e5",
    "execution": {
     "iopub.execute_input": "2023-10-24T17:37:54.620927Z",
     "iopub.status.busy": "2023-10-24T17:37:54.620433Z",
     "iopub.status.idle": "2023-10-24T17:37:55.071709Z",
     "shell.execute_reply": "2023-10-24T17:37:55.070538Z",
     "shell.execute_reply.started": "2023-10-24T17:37:54.62089Z"
    }
   },
   "outputs": [],
   "source": [
    "import pandas as pd\n",
    "import numpy as np\n",
    "import faiss"
   ]
  },
  {
   "cell_type": "code",
   "execution_count": null,
   "metadata": {
    "execution": {
     "iopub.execute_input": "2023-10-24T17:37:57.340745Z",
     "iopub.status.busy": "2023-10-24T17:37:57.340069Z",
     "iopub.status.idle": "2023-10-24T17:37:57.352569Z",
     "shell.execute_reply": "2023-10-24T17:37:57.350143Z",
     "shell.execute_reply.started": "2023-10-24T17:37:57.340698Z"
    }
   },
   "outputs": [],
   "source": [
    "print('test')"
   ]
  },
  {
   "cell_type": "code",
   "execution_count": null,
   "metadata": {},
   "outputs": [],
   "source": []
  }
 ],
 "metadata": {
  "kernelspec": {
   "display_name": "Python 3",
   "language": "python",
   "name": "python3"
  },
  "language_info": {
   "codemirror_mode": {
    "name": "ipython",
    "version": 3
   },
   "file_extension": ".py",
   "mimetype": "text/x-python",
   "name": "python",
   "nbconvert_exporter": "python",
   "pygments_lexer": "ipython3",
   "version": "3.8.8"
  }
 },
 "nbformat": 4,
 "nbformat_minor": 4
}
